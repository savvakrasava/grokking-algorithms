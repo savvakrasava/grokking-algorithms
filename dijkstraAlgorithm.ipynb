{
 "cells": [
  {
   "cell_type": "code",
   "execution_count": 1,
   "metadata": {},
   "outputs": [
    {
     "name": "stdout",
     "output_type": "stream",
     "text": [
      "{'you': ['alice', 'bob', 'claire'], 'start': {'a': 6, 'b': 2}, 'a': {'fin': 1}, 'b': {'a': 3, 'fin': 5}, 'fin': {}} {'a': 6, 'b': 2, 'fin': inf} {'a': 'start', 'b': 'start', 'fin': None}\n"
     ]
    },
    {
     "data": {
      "text/plain": [
       "['b', 'a', 'fin']"
      ]
     },
     "execution_count": 1,
     "metadata": {},
     "output_type": "execute_result"
    }
   ],
   "source": [
    "#dijkstra's algorithm\n",
    "#for \"cheapest\" way in graph\n",
    "#You can’t use Dijkstra’s algorithm if you have negative-weight edges.\n",
    "#If you have negative weights, use the Bellman-Ford algorithm.\n",
    "\n",
    "graph = {}\n",
    "graph['you'] = ['alice', 'bob', 'claire']\n",
    "graph['start'] = {}\n",
    "graph['start']['a'] = 6\n",
    "graph['start']['b'] = 2\n",
    "\n",
    "#graph['start'].keys()\n",
    "#graph['start']['a']\n",
    "\n",
    "graph['a'] = {}\n",
    "graph['a']['fin'] = 1\n",
    "graph['b'] = {}\n",
    "graph['b']['a'] = 3\n",
    "graph['b']['fin'] = 5\n",
    "graph['fin'] = {}\n",
    "\n",
    "infinity = float('inf')\n",
    "\n",
    "costs = {}\n",
    "costs['a'] = 6\n",
    "costs['b'] = 2\n",
    "costs['fin'] = infinity\n",
    "costs\n",
    "\n",
    "parents = {}\n",
    "parents['a'] = 'start'\n",
    "parents['b'] = 'start'\n",
    "parents['fin'] = None\n",
    "\n",
    "processed = []\n",
    "\n",
    "print(graph,costs,parents)\n",
    "\n",
    "def find_lowest_cost_node(costs):\n",
    "    lowest_cost = float('inf')\n",
    "    lowest_cost_node = None\n",
    "    for node in costs: #Go through each node.\n",
    "        cost = costs[node]\n",
    "        if cost < lowest_cost and node not in processed:\n",
    "            lowest_cost = cost #… set it as the new lowest-cost node.\n",
    "            lowest_cost_node = node\n",
    "    return lowest_cost_node\n",
    "\n",
    "find_lowest_cost_node(costs)\n",
    "\n",
    "def dijkstraAlg():\n",
    "    node = find_lowest_cost_node(costs)\n",
    "    while node is not None:\n",
    "        cost = costs[node]\n",
    "        neighbors = graph[node]\n",
    "        for n in neighbors.keys():\n",
    "            new_cost = cost + neighbors[n]\n",
    "            if costs[n] > new_cost:\n",
    "                costs[n] = new_cost\n",
    "                parents[n] = node\n",
    "        processed.append(node)\n",
    "        node = find_lowest_cost_node(costs)\n",
    "    return processed\n",
    "\n",
    "dijkstraAlg()"
   ]
  },
  {
   "cell_type": "code",
   "execution_count": null,
   "metadata": {},
   "outputs": [],
   "source": []
  }
 ],
 "metadata": {
  "kernelspec": {
   "display_name": "Python 3",
   "language": "python",
   "name": "python3"
  },
  "language_info": {
   "codemirror_mode": {
    "name": "ipython",
    "version": 3
   },
   "file_extension": ".py",
   "mimetype": "text/x-python",
   "name": "python",
   "nbconvert_exporter": "python",
   "pygments_lexer": "ipython3",
   "version": "3.6.7"
  }
 },
 "nbformat": 4,
 "nbformat_minor": 2
}
