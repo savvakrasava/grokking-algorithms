{
 "cells": [
  {
   "cell_type": "code",
   "execution_count": 2,
   "metadata": {},
   "outputs": [
    {
     "name": "stdout",
     "output_type": "stream",
     "text": [
      "Array is sorted in 6 swaps.\n",
      "First Element: 1\n",
      "Last Element: 10\n"
     ]
    }
   ],
   "source": [
    "#Bubble sort\n",
    "\n",
    "def bubbleSort(arr):\n",
    "    n = len(arr) \n",
    "    numSwaps = 0 #custom param\n",
    "    # Traverse through all array elements\n",
    "    for i in range(n): \n",
    "        # Last i elements are already in place\n",
    "        for j in range(0, n-i-1): \n",
    "            # traverse the array from 0 to n-i-1\n",
    "            # Swap if the element found is greater\n",
    "            # than the next element\n",
    "            if arr[j] > arr[j+1] :\n",
    "                arr[j], arr[j+1] = arr[j+1], arr[j]\n",
    "                numSwaps +=1 #custom param\n",
    "    return arr, numSwaps\n",
    "\n",
    "def sortAndCount(array):\n",
    "    numSwaps = 0\n",
    "    if array == sorted(array):\n",
    "        print('Array is sorted in {0} swaps.'.format(numSwaps))\n",
    "        print('First Element: {}'.format(array[0]))\n",
    "        print('Last Element: {}'.format(array[-1]))\n",
    "    else:\n",
    "        array,numSwaps = bubbleSort(array)\n",
    "        print('Array is sorted in {0} swaps.'.format(numSwaps))\n",
    "        print('First Element: {}'.format(array[0]))\n",
    "        print('Last Element: {}'.format(array[-1]))\n",
    "    \n",
    "\n",
    "a = [1,2,3,7,6,5,10,9,8]\n",
    "\n",
    "sortAndCount(a)"
   ]
  },
  {
   "cell_type": "code",
   "execution_count": null,
   "metadata": {},
   "outputs": [],
   "source": []
  },
  {
   "cell_type": "code",
   "execution_count": null,
   "metadata": {},
   "outputs": [],
   "source": []
  }
 ],
 "metadata": {
  "kernelspec": {
   "display_name": "Python 3",
   "language": "python",
   "name": "python3"
  },
  "language_info": {
   "codemirror_mode": {
    "name": "ipython",
    "version": 3
   },
   "file_extension": ".py",
   "mimetype": "text/x-python",
   "name": "python",
   "nbconvert_exporter": "python",
   "pygments_lexer": "ipython3",
   "version": "3.6.7"
  }
 },
 "nbformat": 4,
 "nbformat_minor": 2
}
