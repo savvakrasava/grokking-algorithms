{
 "cells": [
  {
   "cell_type": "code",
   "execution_count": 13,
   "metadata": {},
   "outputs": [],
   "source": [
    "#QuickSort \n",
    "#O(NlogN) - average case\n",
    "#O(NxN) - worst case\n",
    "\n",
    "def quicksort(array):\n",
    "    if len(array) < 2:\n",
    "        return array #Base case: arrays with 0 or 1 element are already “sorted.”\n",
    "    else:\n",
    "        pivot = array[0] #Recursive case\n",
    "        less = [i for i in array[1:] if i <= pivot] #Sub-array of all the elements less than the pivot\n",
    "        greater = [i for i in array[1:] if i > pivot] #Sub-array of all the elements greater than the pivot\n",
    "    return quicksort(less) + [pivot] + quicksort(greater)\n",
    "    #return quicksort(greater) + [pivot] + quicksort(less)\n"
   ]
  },
  {
   "cell_type": "code",
   "execution_count": 14,
   "metadata": {},
   "outputs": [],
   "source": [
    "array = [5,0,-1,4,7,10,100,-100,3,2,5,7,8,11,11.232, 11.233]"
   ]
  },
  {
   "cell_type": "code",
   "execution_count": 15,
   "metadata": {},
   "outputs": [
    {
     "data": {
      "text/plain": [
       "[-100, -1, 0, 2, 3, 4, 5, 5, 7, 7, 8, 10, 11, 11.232, 11.233, 100]"
      ]
     },
     "execution_count": 15,
     "metadata": {},
     "output_type": "execute_result"
    }
   ],
   "source": [
    "quicksort(array)"
   ]
  },
  {
   "cell_type": "code",
   "execution_count": null,
   "metadata": {},
   "outputs": [],
   "source": []
  },
  {
   "cell_type": "code",
   "execution_count": null,
   "metadata": {},
   "outputs": [],
   "source": []
  },
  {
   "cell_type": "code",
   "execution_count": null,
   "metadata": {},
   "outputs": [],
   "source": []
  }
 ],
 "metadata": {
  "kernelspec": {
   "display_name": "Python 3",
   "language": "python",
   "name": "python3"
  },
  "language_info": {
   "codemirror_mode": {
    "name": "ipython",
    "version": 3
   },
   "file_extension": ".py",
   "mimetype": "text/x-python",
   "name": "python",
   "nbconvert_exporter": "python",
   "pygments_lexer": "ipython3",
   "version": "3.6.7"
  }
 },
 "nbformat": 4,
 "nbformat_minor": 2
}
