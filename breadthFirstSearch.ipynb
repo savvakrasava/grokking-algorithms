{
 "cells": [
  {
   "cell_type": "code",
   "execution_count": 4,
   "metadata": {},
   "outputs": [
    {
     "name": "stdout",
     "output_type": "stream",
     "text": [
      "thom is a mango seller!\n",
      "thom is a mango seller!\n",
      "dooom is a mango seller!\n",
      "True True False False True\n"
     ]
    }
   ],
   "source": [
    "#breadth-first serach\n",
    "#for shortes ROUTES in graph (without weight's)\n",
    "#To calculate the shortest path in an unweighted graph, use breadth-first search.\n",
    "#O(number of people + number of edges) = O(E+V) -> V for number of vertices, E for number of edges).\n",
    "\n",
    "graph = {}\n",
    "graph['you'] = ['alice', 'bob', 'claire']\n",
    "graph['bob'] = ['anuj', 'peggy']\n",
    "graph['alice'] = ['peggy']\n",
    "graph['claire'] = ['thom', 'jonny']\n",
    "graph['anuj'] = []\n",
    "graph['peggy'] = []\n",
    "graph['thom'] = ['dooom']\n",
    "graph['jonny'] = []\n",
    "      \n",
    "#print(graph)\n",
    "\n",
    "from collections import deque\n",
    "search_queue = deque()\n",
    "search_queue += graph['you']\n",
    "\n",
    "def person_is_seller(name):\n",
    "     return name[-1] == 'm'\n",
    "    \n",
    "def search(name):\n",
    "    search_queue = deque()\n",
    "    search_queue += graph[name]\n",
    "    searched = []\n",
    "    while search_queue:\n",
    "        person = search_queue.popleft()\n",
    "        if not person in searched:\n",
    "            if person_is_seller(person):\n",
    "                print(person + ' is a mango seller!')\n",
    "                return True\n",
    "            else:\n",
    "                search_queue += graph[person]\n",
    "                searched.append(person)\n",
    "    return False\n",
    "\n",
    "print(search('claire'), search('you'), search('bob'), search('alice'), search('thom'))"
   ]
  },
  {
   "cell_type": "code",
   "execution_count": null,
   "metadata": {},
   "outputs": [],
   "source": []
  }
 ],
 "metadata": {
  "kernelspec": {
   "display_name": "Python 3",
   "language": "python",
   "name": "python3"
  },
  "language_info": {
   "codemirror_mode": {
    "name": "ipython",
    "version": 3
   },
   "file_extension": ".py",
   "mimetype": "text/x-python",
   "name": "python",
   "nbconvert_exporter": "python",
   "pygments_lexer": "ipython3",
   "version": "3.6.7"
  }
 },
 "nbformat": 4,
 "nbformat_minor": 2
}
