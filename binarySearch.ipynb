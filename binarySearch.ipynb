{
 "cells": [
  {
   "cell_type": "code",
   "execution_count": 2,
   "metadata": {},
   "outputs": [
    {
     "data": {
      "text/plain": [
       "10"
      ]
     },
     "execution_count": 2,
     "metadata": {},
     "output_type": "execute_result"
    }
   ],
   "source": [
    "## binary search\n",
    "## O(logN)\n",
    "## list must be sorted\n",
    "\n",
    "my_list = [-3,-2,-1,0,3,4,5,7,8,9,10,12,13,15,16,17,18,21,22,23,24,25,26,27,28,39,30,31,32,121]\n",
    "\n",
    "\n",
    "def binarySearch(list, item):\n",
    "    low = 0\n",
    "    high = len(list)-1     \n",
    "    while low <= high:\n",
    "        mid = int((low + high)/2) \n",
    "        guess = list[mid]      \n",
    "        if guess == item:\n",
    "            return mid\n",
    "        if guess > item:\n",
    "            high = mid-1\n",
    "        else:\n",
    "            low = mid+1\n",
    "    return None\n",
    "\n",
    "binarySearch(my_list,10)"
   ]
  },
  {
   "cell_type": "code",
   "execution_count": null,
   "metadata": {},
   "outputs": [],
   "source": []
  }
 ],
 "metadata": {
  "kernelspec": {
   "display_name": "Python 3",
   "language": "python",
   "name": "python3"
  },
  "language_info": {
   "codemirror_mode": {
    "name": "ipython",
    "version": 3
   },
   "file_extension": ".py",
   "mimetype": "text/x-python",
   "name": "python",
   "nbconvert_exporter": "python",
   "pygments_lexer": "ipython3",
   "version": "3.6.7"
  }
 },
 "nbformat": 4,
 "nbformat_minor": 2
}
