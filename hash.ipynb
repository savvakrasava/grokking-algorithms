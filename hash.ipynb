{
 "cells": [
  {
   "cell_type": "code",
   "execution_count": 3,
   "metadata": {},
   "outputs": [
    {
     "name": "stdout",
     "output_type": "stream",
     "text": [
      "('let them vote!', {'mike': True})\n",
      "('kick them out!', {'mike': True})\n",
      "('let them vote!', {'mike': True, 'james': True})\n",
      "('let them vote!', {'mike': True, 'james': True, 'inna': True})\n",
      "('kick them out!', {'mike': True, 'james': True, 'inna': True})\n",
      "('kick them out!', {'mike': True, 'james': True, 'inna': True})\n"
     ]
    }
   ],
   "source": [
    "#hash\n",
    "voted = {}\n",
    "\n",
    "def check_voter(name):\n",
    "    if voted.get(name):\n",
    "        return ('kick them out!', voted)\n",
    "    else:\n",
    "        voted[name] = True\n",
    "        return ('let them vote!', voted)\n",
    "        \n",
    "print(check_voter('mike'))\n",
    "print(check_voter('mike'))\n",
    "print(check_voter('james'))\n",
    "print(check_voter('inna'))\n",
    "print(check_voter('james'))\n",
    "print(check_voter('mike'))"
   ]
  },
  {
   "cell_type": "code",
   "execution_count": null,
   "metadata": {},
   "outputs": [],
   "source": []
  }
 ],
 "metadata": {
  "kernelspec": {
   "display_name": "Python 3",
   "language": "python",
   "name": "python3"
  },
  "language_info": {
   "codemirror_mode": {
    "name": "ipython",
    "version": 3
   },
   "file_extension": ".py",
   "mimetype": "text/x-python",
   "name": "python",
   "nbconvert_exporter": "python",
   "pygments_lexer": "ipython3",
   "version": "3.6.7"
  }
 },
 "nbformat": 4,
 "nbformat_minor": 2
}
