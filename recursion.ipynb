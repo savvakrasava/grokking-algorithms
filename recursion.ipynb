{
 "cells": [
  {
   "cell_type": "code",
   "execution_count": 11,
   "metadata": {},
   "outputs": [
    {
     "data": {
      "text/plain": [
       "720"
      ]
     },
     "execution_count": 11,
     "metadata": {},
     "output_type": "execute_result"
    }
   ],
   "source": [
    "##recursion examples\n",
    "\n",
    "def fact(x):\n",
    "    if x == 0:\n",
    "        return 1\n",
    "    else:\n",
    "        return x*(fact(x-1))\n",
    "    \n",
    "    \n",
    "fact(6)"
   ]
  },
  {
   "cell_type": "code",
   "execution_count": 12,
   "metadata": {},
   "outputs": [
    {
     "name": "stdout",
     "output_type": "stream",
     "text": [
      "6\n",
      "5\n",
      "4\n",
      "3\n",
      "2\n",
      "1\n",
      "0\n"
     ]
    }
   ],
   "source": [
    "def countDown(i):\n",
    "    print (i)\n",
    "    if i <= 0:\n",
    "        return\n",
    "    else:\n",
    "        countDown(i-1)\n",
    "        \n",
    "countDown(6)        "
   ]
  },
  {
   "cell_type": "code",
   "execution_count": 13,
   "metadata": {},
   "outputs": [
    {
     "name": "stdout",
     "output_type": "stream",
     "text": [
      "!! %username%, you are fagot ! ! !\n",
      "Do you want to eat my cumshot, %username%?\n",
      "I am fully-get ready to suck. . . (c) %username%\n",
      "uhm ... yehhh.. suck-suck-suck ... (c) %username%\n",
      "DO IT QUICKER, LITTLE BITCH!!!!!!!!\n",
      "umn, umn,om ,nom ,nom, call me @dirty bitch@ (c) %username%\n",
      "AAAAAAAAAAAAAAAAAA, YEAHHHHHHHHHHHHH, get off!\n"
     ]
    }
   ],
   "source": [
    "import time as t\n",
    "\n",
    "def greet(name):\n",
    "    print ('!! ' + name + ', you are fagot ! ! !')\n",
    "    greet2(name)\n",
    "    t.sleep(2)\n",
    "    print ('I am fully-get ready to suck. . . (c) ' + name)\n",
    "    suck(name)\n",
    "    orgasm(name)\n",
    "    \n",
    "def greet2(name):\n",
    "    t.sleep(1)\n",
    "    print ('Do you want to eat my cumshot, '+ name+ '?')\n",
    "    \n",
    "def suck(name):\n",
    "    t.sleep(2)\n",
    "    print ('uhm ... yehhh.. suck-suck-suck ... (c) '+ name)\n",
    "    \n",
    "def orgasm(name):\n",
    "    t.sleep(10)\n",
    "    print('DO IT QUICKER, LITTLE BITCH!!!!!!!!')\n",
    "    t.sleep(4)\n",
    "    print('umn, umn,om ,nom ,nom, call me @dirty bitch@ (c) '+ name)\n",
    "    t.sleep(5)\n",
    "    print('AAAAAAAAAAAAAAAAAA, YEAHHHHHHHHHHHHH, get off!')\n",
    "    \n",
    "    \n",
    "greet('%username%')"
   ]
  },
  {
   "cell_type": "code",
   "execution_count": null,
   "metadata": {},
   "outputs": [],
   "source": []
  }
 ],
 "metadata": {
  "kernelspec": {
   "display_name": "Python 3",
   "language": "python",
   "name": "python3"
  },
  "language_info": {
   "codemirror_mode": {
    "name": "ipython",
    "version": 3
   },
   "file_extension": ".py",
   "mimetype": "text/x-python",
   "name": "python",
   "nbconvert_exporter": "python",
   "pygments_lexer": "ipython3",
   "version": "3.6.7"
  }
 },
 "nbformat": 4,
 "nbformat_minor": 2
}
